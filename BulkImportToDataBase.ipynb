{
 "cells": [
  {
   "cell_type": "code",
   "execution_count": 24,
   "metadata": {},
   "outputs": [],
   "source": [
    "import pandas as pd\n",
    "import pymongo\n",
    "import json\n",
    "import os\n",
    "import warnings\n",
    "warnings.filterwarnings('ignore')"
   ]
  },
  {
   "cell_type": "code",
   "execution_count": 31,
   "metadata": {},
   "outputs": [
    {
     "name": "stdout",
     "output_type": "stream",
     "text": [
      "NewDataframes/Pink_df.csv\n",
      "NewDataframes/LiamPayne_df.csv\n",
      "NewDataframes/TheEllenShow_df.csv\n",
      "NewDataframes/RealMadrid_df.csv\n",
      "NewDataframes/DonaldTrump_df.csv\n",
      "NewDataframes/ArianaGrande_df.csv\n",
      "NewDataframes/Rihanna_df.csv\n",
      "NewDataframes/Shakira_df.csv\n",
      "NewDataframes/AmitabhBachchan_df.csv\n",
      "NewDataframes/ShahRukhKhan_df.csv\n",
      "NewDataframes/SalmanKhan_df.csv\n",
      "NewDataframes/JustinBieber_df.csv\n",
      "NewDataframes/SelenaGomez_df.csv\n",
      "NewDataframes/Twitter_df.csv\n",
      "NewDataframes/BillGates_df.csv\n",
      "NewDataframes/JustinTimberLake_df.csv\n",
      "NewDataframes/LouisTomlinson_df.csv\n",
      "NewDataframes/ESPN_df.csv\n",
      "NewDataframes/KimKardashian_df.csv\n",
      "NewDataframes/Oprah_df.csv\n",
      "NewDataframes/NiallHoran_df.csv\n",
      "NewDataframes/LadyGaga_df.csv\n",
      "NewDataframes/TaylorSwift_df.csv\n",
      "NewDataframes/NYTimes_df.csv\n",
      "NewDataframes/AkshayKumar_df.csv\n",
      "NewDataframes/FCBarcelona_df.csv\n",
      "NewDataframes/HarryStyles_df.csv\n",
      "NewDataframes/MileyCyrus_df.csv\n",
      "NewDataframes/NarendraModi_df.csv\n",
      "NewDataframes/YouTube_df.csv\n",
      "NewDataframes/CNN_df.csv\n",
      "NewDataframes/NeymarJr_df.csv\n",
      "NewDataframes/LilWayne_df.csv\n",
      "NewDataframes/Drake_df.csv\n",
      "NewDataframes/WizKhalifa_df.csv\n",
      "NewDataframes/KevinHart_df.csv\n",
      "NewDataframes/BritneySpears_df.csv\n",
      "NewDataframes/Instagram_df.csv\n",
      "NewDataframes/CNNBreaking_df.csv\n",
      "NewDataframes/BBC_df.csv\n",
      "NewDataframes/KatyPerry_df.csv\n",
      "NewDataframes/SportsCenter_df.csv\n",
      "NewDataframes/JLo_df.csv\n",
      "NewDataframes/NASA_df.csv\n",
      "NewDataframes/BrunoMars_df.csv\n",
      "NewDataframes/JimmyFallon_df.csv\n",
      "NewDataframes/LeBronJames_df.csv\n",
      "NewDataframes/CristianoRonaldo_df.csv\n",
      "NewDataframes/ViratKohli_df.csv\n",
      "NewDataframes/BarackObama_df.csv\n"
     ]
    }
   ],
   "source": [
    "directory = 'NewDataframes'\n",
    "for filename in os.listdir(directory):#for loop to upload NewDataframes to mongodb\n",
    "    if filename.endswith(\".csv\"): \n",
    "        print(os.path.join(directory, filename))\n",
    "        filepath = os.path.join(directory, filename)\n",
    "        mng_client = pymongo.MongoClient('localhost', 27017)\n",
    "        mng_db = mng_client['TwitterDataStore'] # Replace mongo db name\n",
    "        collection_name = filename[:-7] # Replace mongo db collection name with filename \n",
    "        #and removing the (_df.csv)characters from the filename to change the collection name\n",
    "        db_cm = mng_db[collection_name]\n",
    "        cdir = os.path.dirname(os.path.abspath(\"__file__\"))\n",
    "        file_res = os.path.join(cdir, filepath)\n",
    "        data = pd.read_csv(file_res)\n",
    "        data_json = json.loads(data.to_json(orient='records'))\n",
    "        db_cm.remove()\n",
    "        db_cm.insert(data_json)\n",
    "        continue\n",
    "    else:\n",
    "        continue"
   ]
  },
  {
   "cell_type": "code",
   "execution_count": null,
   "metadata": {},
   "outputs": [],
   "source": []
  }
 ],
 "metadata": {
  "kernelspec": {
   "display_name": "Python 3",
   "language": "python",
   "name": "python3"
  },
  "language_info": {
   "codemirror_mode": {
    "name": "ipython",
    "version": 3
   },
   "file_extension": ".py",
   "mimetype": "text/x-python",
   "name": "python",
   "nbconvert_exporter": "python",
   "pygments_lexer": "ipython3",
   "version": "3.8.5"
  }
 },
 "nbformat": 4,
 "nbformat_minor": 4
}
