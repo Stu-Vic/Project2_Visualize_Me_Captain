{
 "cells": [
  {
   "cell_type": "code",
   "execution_count": null,
   "metadata": {},
   "outputs": [],
   "source": [
    "import pymongo\n",
    "import os\n",
    "from os import listdir\n",
    "import pandas as pd\n",
    "import re\n",
    "import glob"
   ]
  },
  {
   "cell_type": "code",
   "execution_count": null,
   "metadata": {},
   "outputs": [],
   "source": [
    "globarr = glob.glob(\"../NewDataframes/*.*\")\n",
    "print(globarr)"
   ]
  },
  {
   "cell_type": "code",
   "execution_count": null,
   "metadata": {},
   "outputs": [],
   "source": [
    "master_merged_df = pd.DataFrame()\n",
    "list_of_dataframes = []\n",
    "\n",
    "for filename in globarr:\n",
    "    identity1 = filename.replace(\"_df.csv\",\"\")\n",
    "    identity2 = identity1.replace(\"../NewDataframes\\\\\",\"\")\n",
    "    re_outer = re.compile(r'([^A-Z ])([A-Z])')\n",
    "    re_inner = re.compile(r'(?<!^)([A-Z])([^A-Z])')\n",
    "    identity = re_outer.sub(r'\\1 \\2', re_inner.sub(r' \\1\\2', identity2))\n",
    "    temp_df = pd.DataFrame()\n",
    "    temp_df = pd.read_csv(filename)\n",
    "    temp_df[\"Identity\"] = identity\n",
    "    list_of_dataframes.append(temp_df)\n",
    "    \n",
    "    \n",
    "master_merged_df = pd.concat(list_of_dataframes)\n",
    "master_merged_df.head()"
   ]
  },
  {
   "cell_type": "code",
   "execution_count": null,
   "metadata": {},
   "outputs": [],
   "source": [
    "master_merged_df.shape\n"
   ]
  },
  {
   "cell_type": "code",
   "execution_count": null,
   "metadata": {},
   "outputs": [],
   "source": [
    "master_merged_df.to_csv('../NewDataframes/Master_Merged_df.csv') "
   ]
  },
  {
   "cell_type": "code",
   "execution_count": null,
   "metadata": {},
   "outputs": [],
   "source": [
    "# for filename in globarr:\n",
    "#     identity1 = filename.replace(\"_df.csv\",\"\")\n",
    "#     identity2 = identity1.replace(\"../NewDataframes\\\\\",\"\")\n",
    "#     re_outer = re.compile(r'([^A-Z ])([A-Z])')\n",
    "#     re_inner = re.compile(r'(?<!^)([A-Z])([^A-Z])')\n",
    "#     identity = re_outer.sub(r'\\1 \\2', re_inner.sub(r' \\1\\2', identity2))\n",
    "#     temp_df = pd.DataFrame()\n",
    "#     temp_df = pd.read_csv(filename)\n",
    "#     temp_df[\"Identity\"] = identity\n",
    "#     list_of_dataframes.append(temp_df)\n",
    "    \n"
   ]
  },
  {
   "cell_type": "code",
   "execution_count": null,
   "metadata": {},
   "outputs": [],
   "source": [
    "# temp_df = pd.read_csv('../deleteme\\\\BillGates_df.csv')\n",
    "\n",
    "# temp_df"
   ]
  },
  {
   "cell_type": "code",
   "execution_count": null,
   "metadata": {},
   "outputs": [],
   "source": [
    "# temp_df[\"Identity\"] = \"Gatesey\"\n",
    "# temp_df"
   ]
  },
  {
   "cell_type": "code",
   "execution_count": null,
   "metadata": {},
   "outputs": [],
   "source": []
  }
 ],
 "metadata": {
  "kernelspec": {
   "display_name": "Python 3",
   "language": "python",
   "name": "python3"
  },
  "language_info": {
   "codemirror_mode": {
    "name": "ipython",
    "version": 3
   },
   "file_extension": ".py",
   "mimetype": "text/x-python",
   "name": "python",
   "nbconvert_exporter": "python",
   "pygments_lexer": "ipython3",
   "version": "3.8.5"
  }
 },
 "nbformat": 4,
 "nbformat_minor": 4
}
